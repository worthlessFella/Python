{
  "nbformat": 4,
  "nbformat_minor": 0,
  "metadata": {
    "colab": {
      "provenance": [],
      "authorship_tag": "ABX9TyPX5jPvrMBED+XOwwzAYR+7",
      "include_colab_link": true
    },
    "kernelspec": {
      "name": "python3",
      "display_name": "Python 3"
    },
    "language_info": {
      "name": "python"
    }
  },
  "cells": [
    {
      "cell_type": "markdown",
      "metadata": {
        "id": "view-in-github",
        "colab_type": "text"
      },
      "source": [
        "<a href=\"https://colab.research.google.com/github/worthlessFella/Python/blob/main/sqllite3.ipynb\" target=\"_parent\"><img src=\"https://colab.research.google.com/assets/colab-badge.svg\" alt=\"Open In Colab\"/></a>"
      ]
    },
    {
      "cell_type": "markdown",
      "source": [
        "# SQL LITE 3 tutorial"
      ],
      "metadata": {
        "id": "aG9keKJhOlqT"
      }
    },
    {
      "cell_type": "code",
      "execution_count": 1,
      "metadata": {
        "id": "-qLaOIz4ObtF"
      },
      "outputs": [],
      "source": [
        "import sqlite3"
      ]
    },
    {
      "cell_type": "code",
      "source": [
        "# Connect\n",
        "conn = sqlite3.connect('test.db')\n",
        "\n",
        "print(\"Opened database successfully\")"
      ],
      "metadata": {
        "colab": {
          "base_uri": "https://localhost:8080/"
        },
        "id": "-JFPjhsYOnzT",
        "outputId": "cc637117-6d8d-4e2d-878d-822b7a448e9a"
      },
      "execution_count": 3,
      "outputs": [
        {
          "output_type": "stream",
          "name": "stdout",
          "text": [
            "Opened database successfully\n"
          ]
        }
      ]
    },
    {
      "cell_type": "code",
      "source": [
        "# Create a Table\n",
        "conn.execute('''CREATE TABLE COMPANY\n",
        "         (ID INT PRIMARY KEY     NOT NULL,\n",
        "         NAME           TEXT    NOT NULL,\n",
        "         AGE            INT     NOT NULL,\n",
        "         ADDRESS        CHAR(50),\n",
        "         SALARY         REAL);''')\n",
        "print (\"Table created successfully\")\n",
        "\n",
        "conn.close()"
      ],
      "metadata": {
        "colab": {
          "base_uri": "https://localhost:8080/"
        },
        "id": "yptga7t6OtgG",
        "outputId": "fe08c8b2-1f92-48fd-dc84-b1599a8148a5"
      },
      "execution_count": 4,
      "outputs": [
        {
          "output_type": "stream",
          "name": "stdout",
          "text": [
            "Table created successfully\n"
          ]
        }
      ]
    },
    {
      "cell_type": "code",
      "source": [
        "# list table\n",
        "con = sqlite3.connect('test.db')\n",
        "def sql_fetch(con):\n",
        "    cursorObj = con.cursor()\n",
        "    cursorObj.execute('SELECT name from sqlite_master where type= \"table\"')\n",
        "    print(cursorObj.fetchall())\n",
        "sql_fetch(con)"
      ],
      "metadata": {
        "colab": {
          "base_uri": "https://localhost:8080/"
        },
        "id": "QdoT0ImPQ-Ns",
        "outputId": "8aa44dda-00e9-4686-b102-ec436772a0df"
      },
      "execution_count": 11,
      "outputs": [
        {
          "output_type": "stream",
          "name": "stdout",
          "text": [
            "[('COMPANY',), ('projects',)]\n"
          ]
        }
      ]
    },
    {
      "cell_type": "code",
      "source": [
        "# create table if not exists\n",
        "con = sqlite3.connect('test.db')\n",
        "def sql_fetch(con):\n",
        "    cursorObj = con.cursor()\n",
        "    cursorObj.execute('create table if not exists projects(id integer, name text)')\n",
        "    con.commit()\n",
        "sql_fetch(con)\n",
        "\n",
        "# drop table\n",
        "# cursorObj.execute('drop table if exists projects')"
      ],
      "metadata": {
        "id": "Cu1vNZE_RVCu"
      },
      "execution_count": 10,
      "outputs": []
    },
    {
      "cell_type": "code",
      "source": [
        "# Insert\n",
        "\n",
        "conn = sqlite3.connect('test.db')\n",
        "print(\"Opened database successfully\")\n",
        "\n",
        "conn.execute(\"INSERT INTO COMPANY (ID,NAME,AGE,ADDRESS,SALARY) \\\n",
        "      VALUES (1, 'Paul', 32, 'California', 20000.00 )\");\n",
        "\n",
        "conn.execute(\"INSERT INTO COMPANY (ID,NAME,AGE,ADDRESS,SALARY) \\\n",
        "      VALUES (2, 'Allen', 25, 'Texas', 15000.00 )\");\n",
        "\n",
        "conn.execute(\"INSERT INTO COMPANY (ID,NAME,AGE,ADDRESS,SALARY) \\\n",
        "      VALUES (3, 'Teddy', 23, 'Norway', 20000.00 )\");\n",
        "\n",
        "conn.execute(\"INSERT INTO COMPANY (ID,NAME,AGE,ADDRESS,SALARY) \\\n",
        "      VALUES (4, 'Mark', 25, 'Rich-Mond ', 65000.00 )\");\n",
        "\n",
        "conn.commit()\n",
        "print('Records created successfully')\n",
        "conn.close()"
      ],
      "metadata": {
        "colab": {
          "base_uri": "https://localhost:8080/"
        },
        "id": "xlkdhfHeO545",
        "outputId": "d371cdbc-b864-4b72-df4e-83422c0d559b"
      },
      "execution_count": 5,
      "outputs": [
        {
          "output_type": "stream",
          "name": "stdout",
          "text": [
            "Opened database successfully\n",
            "Records created successfully\n"
          ]
        }
      ]
    },
    {
      "cell_type": "code",
      "source": [
        "# insert in bulk\n",
        "con = sqlite3.connect('test.db')\n",
        "cursorObj = con.cursor()\n",
        "cursorObj.execute('create table if not exists projects(id integer, name text)')\n",
        "data = [(1, \"Ridesharing\"), (2, \"Water Purifying\"), (3, \"Forensics\"), (4, \"Botany\")]\n",
        "cursorObj.executemany(\"INSERT INTO projects VALUES(?, ?)\", data)\n",
        "con.commit()"
      ],
      "metadata": {
        "id": "cHiELmhFSfC4"
      },
      "execution_count": 13,
      "outputs": []
    },
    {
      "cell_type": "code",
      "source": [
        "# date time\n",
        "import sqlite3\n",
        "import datetime\n",
        "con = sqlite3.connect('test.db')\n",
        "cursorObj = con.cursor()\n",
        "cursorObj.execute('create table if not exists assignments(id integer, name text, date date)')\n",
        "data = [(1, \"Ridesharing\", datetime.date(2017, 1, 2)), (2, \"Water Purifying\", datetime.date(2018, 3, 4))]\n",
        "cursorObj.executemany(\"INSERT INTO assignments VALUES(?, ?, ?)\", data)\n",
        "con.commit()"
      ],
      "metadata": {
        "id": "KyHeFVfwStpM"
      },
      "execution_count": 14,
      "outputs": []
    },
    {
      "cell_type": "code",
      "source": [
        "# Select\n",
        "conn = sqlite3.connect('test.db')\n",
        "print (\"Opened database successfully\")\n",
        "\n",
        "cursor = conn.execute(\"SELECT id, name, address, salary from COMPANY\")\n",
        "for row in cursor:\n",
        "   print (\"ID = \", row[0])\n",
        "   print (\"NAME = \", row[1])\n",
        "   print (\"ADDRESS = \", row[2])\n",
        "   print (\"SALARY = \", row[3], \"\\n\")\n",
        "\n",
        "print (\"Operation done successfully\")\n",
        "conn.close()"
      ],
      "metadata": {
        "colab": {
          "base_uri": "https://localhost:8080/"
        },
        "id": "lVn9UjAwPfo-",
        "outputId": "8c32827a-18cc-44ba-ef0e-23f30d4d81f5"
      },
      "execution_count": 6,
      "outputs": [
        {
          "output_type": "stream",
          "name": "stdout",
          "text": [
            "Opened database successfully\n",
            "ID =  1\n",
            "NAME =  Paul\n",
            "ADDRESS =  California\n",
            "SALARY =  20000.0 \n",
            "\n",
            "ID =  2\n",
            "NAME =  Allen\n",
            "ADDRESS =  Texas\n",
            "SALARY =  15000.0 \n",
            "\n",
            "ID =  3\n",
            "NAME =  Teddy\n",
            "ADDRESS =  Norway\n",
            "SALARY =  20000.0 \n",
            "\n",
            "ID =  4\n",
            "NAME =  Mark\n",
            "ADDRESS =  Rich-Mond \n",
            "SALARY =  65000.0 \n",
            "\n",
            "Operation done successfully\n"
          ]
        }
      ]
    },
    {
      "cell_type": "code",
      "source": [
        "# Update\n",
        "conn = sqlite3.connect('test.db')\n",
        "print (\"Opened database successfully\")\n",
        "\n",
        "conn.execute(\"UPDATE COMPANY set SALARY = 25000.00 where ID = 1\")\n",
        "conn.commit()\n",
        "print (\"Total number of rows updated :\", conn.total_changes)\n",
        "\n",
        "cursor = conn.execute(\"SELECT id, name, address, salary from COMPANY\")\n",
        "for row in cursor:\n",
        "   print (\"ID = \", row[0])\n",
        "   print (\"NAME = \", row[1])\n",
        "   print (\"ADDRESS = \", row[2])\n",
        "   print (\"SALARY = \", row[3], \"\\n\")\n",
        "\n",
        "print(\"Operation done successfully\")\n",
        "conn.close()"
      ],
      "metadata": {
        "colab": {
          "base_uri": "https://localhost:8080/"
        },
        "id": "ZsgO9nqBPuHv",
        "outputId": "0720551e-4ed2-4d9b-b9d9-f50a9a254a6c"
      },
      "execution_count": 7,
      "outputs": [
        {
          "output_type": "stream",
          "name": "stdout",
          "text": [
            "Opened database successfully\n",
            "Total number of rows updated : 1\n",
            "ID =  1\n",
            "NAME =  Paul\n",
            "ADDRESS =  California\n",
            "SALARY =  25000.0 \n",
            "\n",
            "ID =  2\n",
            "NAME =  Allen\n",
            "ADDRESS =  Texas\n",
            "SALARY =  15000.0 \n",
            "\n",
            "ID =  3\n",
            "NAME =  Teddy\n",
            "ADDRESS =  Norway\n",
            "SALARY =  20000.0 \n",
            "\n",
            "ID =  4\n",
            "NAME =  Mark\n",
            "ADDRESS =  Rich-Mond \n",
            "SALARY =  65000.0 \n",
            "\n",
            "Operation done successfully\n"
          ]
        }
      ]
    },
    {
      "cell_type": "code",
      "source": [
        "# Delete\n",
        "import sqlite3\n",
        "\n",
        "conn = sqlite3.connect('test.db')\n",
        "print (\"Opened database successfully\")\n",
        "\n",
        "conn.execute(\"DELETE from COMPANY where ID = 2;\")\n",
        "conn.commit()\n",
        "print (\"Total number of rows deleted :\", conn.total_changes)\n",
        "\n",
        "cursor = conn.execute(\"SELECT id, name, address, salary from COMPANY\")\n",
        "for row in cursor:\n",
        "   print (\"ID = \", row[0])\n",
        "   print (\"NAME = \", row[1])\n",
        "   print (\"ADDRESS = \", row[2])\n",
        "   print (\"SALARY = \", row[3], \"\\n\")\n",
        "\n",
        "print(\"Operation done successfully\")\n",
        "conn.close()"
      ],
      "metadata": {
        "colab": {
          "base_uri": "https://localhost:8080/"
        },
        "id": "8WDS9wfKQEXO",
        "outputId": "7a353a88-b70e-4d7c-c2a4-7092617984f5"
      },
      "execution_count": 8,
      "outputs": [
        {
          "output_type": "stream",
          "name": "stdout",
          "text": [
            "Opened database successfully\n",
            "Total number of rows deleted : 1\n",
            "ID =  1\n",
            "NAME =  Paul\n",
            "ADDRESS =  California\n",
            "SALARY =  25000.0 \n",
            "\n",
            "ID =  3\n",
            "NAME =  Teddy\n",
            "ADDRESS =  Norway\n",
            "SALARY =  20000.0 \n",
            "\n",
            "ID =  4\n",
            "NAME =  Mark\n",
            "ADDRESS =  Rich-Mond \n",
            "SALARY =  65000.0 \n",
            "\n",
            "Operation done successfully\n"
          ]
        }
      ]
    }
  ]
}