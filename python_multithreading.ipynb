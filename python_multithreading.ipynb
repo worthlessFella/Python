{
  "nbformat": 4,
  "nbformat_minor": 0,
  "metadata": {
    "colab": {
      "provenance": [],
      "authorship_tag": "ABX9TyPAc9yUncpCAhXiS3s+yPYA",
      "include_colab_link": true
    },
    "kernelspec": {
      "name": "python3",
      "display_name": "Python 3"
    },
    "language_info": {
      "name": "python"
    }
  },
  "cells": [
    {
      "cell_type": "markdown",
      "metadata": {
        "id": "view-in-github",
        "colab_type": "text"
      },
      "source": [
        "<a href=\"https://colab.research.google.com/github/worthlessFella/Python/blob/main/python_multithreading.ipynb\" target=\"_parent\"><img src=\"https://colab.research.google.com/assets/colab-badge.svg\" alt=\"Open In Colab\"/></a>"
      ]
    },
    {
      "cell_type": "markdown",
      "source": [
        "# Multithreadng and Multiprocessing\n",
        "\n",
        "# Multithreading\n",
        "Python threads are real threads  \n",
        "Creating threads in python  \n",
        "The Global Interpreter Lock (GIL)\n",
        "sync\n",
        "lock  \n",
        "OOPs way to create python thread \n",
        "\n",
        "Create threads for I/O tasks and processes for CPU bound tasks\n"
      ],
      "metadata": {
        "id": "yhXxjq_q-eZO"
      }
    },
    {
      "cell_type": "code",
      "source": [
        "from IPython.core.interactiveshell import InteractiveShell\n",
        "\n",
        "InteractiveShell.ast_node_interactivity = \"all\"\n"
      ],
      "metadata": {
        "id": "U3Qin-Mtaco7"
      },
      "execution_count": null,
      "outputs": []
    },
    {
      "cell_type": "code",
      "execution_count": null,
      "metadata": {
        "id": "uJKEb1Pa9_qu"
      },
      "outputs": [],
      "source": [
        "import threading\n",
        "from threading import Thread\n",
        "import time"
      ]
    },
    {
      "cell_type": "code",
      "source": [
        "threading.active_count()"
      ],
      "metadata": {
        "colab": {
          "base_uri": "https://localhost:8080/"
        },
        "id": "nzKSciSqA0mM",
        "outputId": "eb89e5a1-0d39-4a27-a1a5-89a6dbd15391"
      },
      "execution_count": null,
      "outputs": [
        {
          "output_type": "execute_result",
          "data": {
            "text/plain": [
              "5"
            ]
          },
          "metadata": {},
          "execution_count": 3
        }
      ]
    },
    {
      "cell_type": "markdown",
      "source": [
        "Check with top -i <pid of notebook> and the shift+h"
      ],
      "metadata": {
        "id": "2JuYYFdMBnk7"
      }
    },
    {
      "cell_type": "code",
      "source": [
        "!top -p 87"
      ],
      "metadata": {
        "colab": {
          "base_uri": "https://localhost:8080/"
        },
        "id": "w7KlwuZGBwgg",
        "outputId": "023ab606-03e8-4126-9a1c-b1219d06b9ea"
      },
      "execution_count": null,
      "outputs": [
        {
          "output_type": "stream",
          "name": "stdout",
          "text": [
            "\u001b[?1h\u001b=\u001b[H\u001b[2J\u001b[mtop - 13:17:01 up 0 min,  0 users,  load average: 1.39, 0.34, 0.11\u001b[m\u001b[m\u001b[m\u001b[m\u001b[K\n",
            "Tasks:\u001b[m\u001b[m\u001b[1m   1 \u001b[m\u001b[mtotal,\u001b[m\u001b[m\u001b[1m   0 \u001b[m\u001b[mrunning,\u001b[m\u001b[m\u001b[1m   1 \u001b[m\u001b[msleeping,\u001b[m\u001b[m\u001b[1m   0 \u001b[m\u001b[mstopped,\u001b[m\u001b[m\u001b[1m   0 \u001b[m\u001b[mzombie\u001b[m\u001b[m\u001b[m\u001b[m\u001b[K\n",
            "%Cpu(s):\u001b[m\u001b[m\u001b[1m 48.3 \u001b[m\u001b[mus,\u001b[m\u001b[m\u001b[1m 34.5 \u001b[m\u001b[msy,\u001b[m\u001b[m\u001b[1m  0.0 \u001b[m\u001b[mni,\u001b[m\u001b[m\u001b[1m  6.9 \u001b[m\u001b[mid,\u001b[m\u001b[m\u001b[1m  6.9 \u001b[m\u001b[mwa,\u001b[m\u001b[m\u001b[1m  0.0 \u001b[m\u001b[mhi,\u001b[m\u001b[m\u001b[1m  3.4 \u001b[m\u001b[msi,\u001b[m\u001b[m\u001b[1m  0.0 \u001b[m\u001b[mst\u001b[m\u001b[m\u001b[m\u001b[m\u001b[K\n",
            "MiB Mem :\u001b[m\u001b[m\u001b[1m  12985.5 \u001b[m\u001b[mtotal,\u001b[m\u001b[m\u001b[1m   8587.6 \u001b[m\u001b[mfree,\u001b[m\u001b[m\u001b[1m    558.8 \u001b[m\u001b[mused,\u001b[m\u001b[m\u001b[1m   3839.2 \u001b[m\u001b[mbuff/cache\u001b[m\u001b[m\u001b[m\u001b[m\u001b[K\n",
            "MiB Swap:\u001b[m\u001b[m\u001b[1m      0.0 \u001b[m\u001b[mtotal,\u001b[m\u001b[m\u001b[1m      0.0 \u001b[m\u001b[mfree,\u001b[m\u001b[m\u001b[1m      0.0 \u001b[m\u001b[mused.\u001b[m\u001b[m\u001b[1m  12137.4 \u001b[m\u001b[mavail Mem \u001b[m\u001b[m\u001b[m\u001b[m\u001b[K\n",
            "\u001b[K\n",
            "\u001b[7m    PID USER      PR  NI    VIRT    RES    SHR S  %CPU  %MEM     TIME+ COMMAND  \u001b[m\u001b[m\u001b[K\n",
            "\u001b[m     87 root      20   0  714388   4856   3944 S   0.0   0.0   0:00.00 dap_mul+ \u001b[m\u001b[m\u001b[K\n",
            "\u001b[J\u001b[H\u001b[mtop - 13:17:04 up 0 min,  0 users,  load average: 1.76, 0.43, 0.14\u001b[m\u001b[m\u001b[m\u001b[m\u001b[K\n",
            "\n",
            "%Cpu(s):\u001b[m\u001b[m\u001b[1m 14.8 \u001b[m\u001b[mus,\u001b[m\u001b[m\u001b[1m 36.5 \u001b[m\u001b[msy,\u001b[m\u001b[m\u001b[1m  0.0 \u001b[m\u001b[mni,\u001b[m\u001b[m\u001b[1m 35.8 \u001b[m\u001b[mid,\u001b[m\u001b[m\u001b[1m 10.8 \u001b[m\u001b[mwa,\u001b[m\u001b[m\u001b[1m  0.0 \u001b[m\u001b[mhi,\u001b[m\u001b[m\u001b[1m  1.9 \u001b[m\u001b[msi,\u001b[m\u001b[m\u001b[1m  0.2 \u001b[m\u001b[mst\u001b[m\u001b[m\u001b[m\u001b[m\u001b[K\n",
            "MiB Mem :\u001b[m\u001b[m\u001b[1m  12985.5 \u001b[m\u001b[mtotal,\u001b[m\u001b[m\u001b[1m   8513.5 \u001b[m\u001b[mfree,\u001b[m\u001b[m\u001b[1m    586.6 \u001b[m\u001b[mused,\u001b[m\u001b[m\u001b[1m   3885.4 \u001b[m\u001b[mbuff/cache\u001b[m\u001b[m\u001b[m\u001b[m\u001b[K\n",
            "MiB Swap:\u001b[m\u001b[m\u001b[1m      0.0 \u001b[m\u001b[mtotal,\u001b[m\u001b[m\u001b[1m      0.0 \u001b[m\u001b[mfree,\u001b[m\u001b[m\u001b[1m      0.0 \u001b[m\u001b[mused.\u001b[m\u001b[m\u001b[1m  12110.2 \u001b[m\u001b[mavail Mem \u001b[m\u001b[m\u001b[m\u001b[m\u001b[K\n",
            "\u001b[K\n",
            "\n",
            "\u001b[m     87 root      20   0  714388   5896   4584 S   0.0   0.0   0:00.00 dap_mul+ \u001b[m\u001b[m\u001b[K\n",
            "\u001b[J\u001b[H\u001b[mtop - 13:17:07 up 0 min,  0 users,  load average: 1.70, 0.44, 0.15\u001b[m\u001b[m\u001b[m\u001b[m\u001b[K\n",
            "\n",
            "%Cpu(s):\u001b[m\u001b[m\u001b[1m 11.5 \u001b[m\u001b[mus,\u001b[m\u001b[m\u001b[1m 30.3 \u001b[m\u001b[msy,\u001b[m\u001b[m\u001b[1m  0.0 \u001b[m\u001b[mni,\u001b[m\u001b[m\u001b[1m 41.3 \u001b[m\u001b[mid,\u001b[m\u001b[m\u001b[1m 14.1 \u001b[m\u001b[mwa,\u001b[m\u001b[m\u001b[1m  0.0 \u001b[m\u001b[mhi,\u001b[m\u001b[m\u001b[1m  2.4 \u001b[m\u001b[msi,\u001b[m\u001b[m\u001b[1m  0.3 \u001b[m\u001b[mst\u001b[m\u001b[m\u001b[m\u001b[m\u001b[K\n",
            "MiB Mem :\u001b[m\u001b[m\u001b[1m  12985.5 \u001b[m\u001b[mtotal,\u001b[m\u001b[m\u001b[1m   8426.2 \u001b[m\u001b[mfree,\u001b[m\u001b[m\u001b[1m    588.2 \u001b[m\u001b[mused,\u001b[m\u001b[m\u001b[1m   3971.1 \u001b[m\u001b[mbuff/cache\u001b[m\u001b[m\u001b[m\u001b[m\u001b[K\n",
            "MiB Swap:\u001b[m\u001b[m\u001b[1m      0.0 \u001b[m\u001b[mtotal,\u001b[m\u001b[m\u001b[1m      0.0 \u001b[m\u001b[mfree,\u001b[m\u001b[m\u001b[1m      0.0 \u001b[m\u001b[mused.\u001b[m\u001b[m\u001b[1m  12107.6 \u001b[m\u001b[mavail Mem \u001b[m\u001b[m\u001b[m\u001b[m\u001b[K\n",
            "\u001b[K\n",
            "\n",
            "\u001b[m     87 root      20   0  714388   6608   4612 S   0.3   0.0   0:00.01 dap_mul+ \u001b[m\u001b[m\u001b[K\n",
            "\u001b[J\u001b[?1l\u001b>\u001b[25;1H\n",
            "\u001b[K"
          ]
        }
      ]
    },
    {
      "cell_type": "code",
      "source": [
        "def thrdFunc():\n",
        "  print('start thread func\\n')\n",
        "  time.sleep(5)\n",
        "  print('sleep over\\n')"
      ],
      "metadata": {
        "id": "F-8efjI-AmFJ"
      },
      "execution_count": null,
      "outputs": []
    },
    {
      "cell_type": "code",
      "source": [
        "thrd = Thread(target=thrdFunc)"
      ],
      "metadata": {
        "id": "BGhjjsDDCVbE"
      },
      "execution_count": null,
      "outputs": []
    },
    {
      "cell_type": "code",
      "source": [
        "print('count bf start:', threading.active_count())\n",
        "thrd.start()\n",
        "print('count after start:', threading.active_count())\n",
        "thrd.join()\n",
        "print('count after finish:', threading.active_count())"
      ],
      "metadata": {
        "colab": {
          "base_uri": "https://localhost:8080/"
        },
        "id": "xcth-_S3CgM0",
        "outputId": "70e083b3-96cf-41df-bea8-74c9854e49ca"
      },
      "execution_count": null,
      "outputs": [
        {
          "output_type": "stream",
          "name": "stdout",
          "text": [
            "count bf start: 5\n",
            "start thread func\n",
            "\n",
            "count after start: 6\n",
            "sleep over\n",
            "\n",
            "count after finish: 6\n"
          ]
        }
      ]
    },
    {
      "cell_type": "code",
      "source": [
        "# Syncing threads\n",
        "lock = threading.Lock()\n",
        "\n",
        "def first_function():\n",
        "    for i in range(5):\n",
        "        lock.acquire()\n",
        "        print ('lock acquired')\n",
        "        print ('Executing the first funcion')\n",
        "        lock.release()\n",
        "\n",
        "def second_function():\n",
        "    for i in range(5):\n",
        "        lock.acquire()\n",
        "        print ('lock acquired')\n",
        "        print ('Executing the second funcion')\n",
        "        lock.release()\n",
        "\n",
        "\n",
        "thread_one = threading.Thread(target=first_function)\n",
        "thread_two = threading.Thread(target=second_function)\n",
        "\n",
        "thread_one.start()\n",
        "thread_two.start()\n",
        "\n",
        "thread_one.join()\n",
        "thread_two.join()"
      ],
      "metadata": {
        "colab": {
          "base_uri": "https://localhost:8080/"
        },
        "id": "942QmP7HGkJb",
        "outputId": "63652bcc-01fc-4a9e-dd14-ed01a29073d5"
      },
      "execution_count": null,
      "outputs": [
        {
          "output_type": "stream",
          "name": "stdout",
          "text": [
            "lock acquired\n",
            "Executing the first funcion\n",
            "lock acquired\n",
            "Executing the first funcion\n",
            "lock acquired\n",
            "Executing the first funcion\n",
            "lock acquired\n",
            "Executing the first funcion\n",
            "lock acquired\n",
            "Executing the first funcion\n",
            "lock acquired\n",
            "Executing the second funcion\n",
            "lock acquired\n",
            "Executing the second funcion\n",
            "lock acquired\n",
            "Executing the second funcion\n",
            "lock acquired\n",
            "Executing the second funcion\n",
            "lock acquired\n",
            "Executing the second funcion\n"
          ]
        }
      ]
    },
    {
      "cell_type": "code",
      "source": [
        "# GIL\n",
        "kill_thread = False"
      ],
      "metadata": {
        "id": "N3xTD5V-DTNp"
      },
      "execution_count": null,
      "outputs": []
    },
    {
      "cell_type": "code",
      "source": [
        "def working_thread():\n",
        "  while True:\n",
        "    if kill_thread == True:\n",
        "      return"
      ],
      "metadata": {
        "id": "VLoyE9xKITc9"
      },
      "execution_count": null,
      "outputs": []
    },
    {
      "cell_type": "code",
      "source": [
        "thrd_run = Thread(target=working_thread)"
      ],
      "metadata": {
        "id": "TGNg0yHQIqaw"
      },
      "execution_count": null,
      "outputs": []
    },
    {
      "cell_type": "code",
      "source": [
        "# check if kill working\n",
        "print('count bf start:', threading.active_count())\n",
        "thrd_run.start()\n",
        "time.sleep(1)\n",
        "print('count after start:', threading.active_count())\n",
        "kill_thread = True\n",
        "time.sleep(1)\n",
        "print('count after kill:', threading.active_count())"
      ],
      "metadata": {
        "colab": {
          "base_uri": "https://localhost:8080/"
        },
        "id": "Id6cNooIJADH",
        "outputId": "7b4fe100-0cfa-43b5-a1fc-e50fd0eec4c1"
      },
      "execution_count": null,
      "outputs": [
        {
          "output_type": "stream",
          "name": "stdout",
          "text": [
            "count bf start: 6\n",
            "count after start: 7\n",
            "count after kill: 6\n"
          ]
        }
      ]
    },
    {
      "cell_type": "code",
      "source": [
        "# create multiple thread\n",
        "kill_thread = False\n",
        "thrd_run = Thread(target=working_thread)\n",
        "print('count bf start:', threading.active_count())\n",
        "thrd_run.start()\n",
        "time.sleep(1)\n",
        "print('count bf start:', threading.active_count())\n",
        "thrd_run_1 = Thread(target=working_thread)\n",
        "thrd_run_1.start()\n",
        "time.sleep(1)\n",
        "print('count after start:', threading.active_count())"
      ],
      "metadata": {
        "colab": {
          "base_uri": "https://localhost:8080/"
        },
        "id": "pOnWo28wJ2nK",
        "outputId": "36edebea-e9df-4bc6-b571-3df9c244bc93"
      },
      "execution_count": null,
      "outputs": [
        {
          "output_type": "stream",
          "name": "stdout",
          "text": [
            "count bf start: 5\n",
            "count bf start: 6\n",
            "count after start: 7\n"
          ]
        }
      ]
    },
    {
      "cell_type": "code",
      "source": [
        "# although multiple cpu intensive threads created cpu usage naver goes beyond 100% as onlhy one thread as executing dude to GIL\n",
        "!top"
      ],
      "metadata": {
        "colab": {
          "base_uri": "https://localhost:8080/"
        },
        "id": "FTKNApXyLAgM",
        "outputId": "c4e6d726-0bc5-4159-f1e9-bea7ccde5f94"
      },
      "execution_count": null,
      "outputs": [
        {
          "output_type": "stream",
          "name": "stdout",
          "text": [
            "\u001b[?1h\u001b=\u001b[H\u001b[2J\u001b[mtop - 13:47:39 up 31 min,  0 users,  load average: 0.74, 0.68, 0.44\u001b[m\u001b[m\u001b[m\u001b[m\u001b[K\n",
            "Tasks:\u001b[m\u001b[m\u001b[1m  15 \u001b[m\u001b[mtotal,\u001b[m\u001b[m\u001b[1m   1 \u001b[m\u001b[mrunning,\u001b[m\u001b[m\u001b[1m  13 \u001b[m\u001b[msleeping,\u001b[m\u001b[m\u001b[1m   0 \u001b[m\u001b[mstopped,\u001b[m\u001b[m\u001b[1m   1 \u001b[m\u001b[mzombie\u001b[m\u001b[m\u001b[m\u001b[m\u001b[K\n",
            "%Cpu(s):\u001b[m\u001b[m\u001b[1m  6.7 \u001b[m\u001b[mus,\u001b[m\u001b[m\u001b[1m  3.3 \u001b[m\u001b[msy,\u001b[m\u001b[m\u001b[1m  0.0 \u001b[m\u001b[mni,\u001b[m\u001b[m\u001b[1m 90.0 \u001b[m\u001b[mid,\u001b[m\u001b[m\u001b[1m  0.0 \u001b[m\u001b[mwa,\u001b[m\u001b[m\u001b[1m  0.0 \u001b[m\u001b[mhi,\u001b[m\u001b[m\u001b[1m  0.0 \u001b[m\u001b[msi,\u001b[m\u001b[m\u001b[1m  0.0 \u001b[m\u001b[mst\u001b[m\u001b[m\u001b[m\u001b[m\u001b[K\n",
            "MiB Mem :\u001b[m\u001b[m\u001b[1m  12985.5 \u001b[m\u001b[mtotal,\u001b[m\u001b[m\u001b[1m   9221.5 \u001b[m\u001b[mfree,\u001b[m\u001b[m\u001b[1m    649.0 \u001b[m\u001b[mused,\u001b[m\u001b[m\u001b[1m   3115.0 \u001b[m\u001b[mbuff/cache\u001b[m\u001b[m\u001b[m\u001b[m\u001b[K\n",
            "MiB Swap:\u001b[m\u001b[m\u001b[1m      0.0 \u001b[m\u001b[mtotal,\u001b[m\u001b[m\u001b[1m      0.0 \u001b[m\u001b[mfree,\u001b[m\u001b[m\u001b[1m      0.0 \u001b[m\u001b[mused.\u001b[m\u001b[m\u001b[1m  12063.2 \u001b[m\u001b[mavail Mem \u001b[m\u001b[m\u001b[m\u001b[m\u001b[K\n",
            "\u001b[K\n",
            "\u001b[7m    PID USER      PR  NI    VIRT    RES    SHR S  %CPU  %MEM     TIME+ COMMAND  \u001b[m\u001b[m\u001b[K\n",
            "\u001b[m      7 root      20   0  899860  53908  30848 S   6.7   0.4   0:03.98 node     \u001b[m\u001b[m\u001b[K\n",
            "\u001b[m    169 root      20   0  537836  14588   5732 S   6.7   0.1   0:03.47 python3  \u001b[m\u001b[m\u001b[K\n",
            "\u001b[m      1 root      20   0    1012      8      0 S   0.0   0.0   0:00.42 docker-+ \u001b[m\u001b[m\u001b[K\n",
            "\u001b[m     19 root      20   0    5524    584    512 S   0.0   0.0   0:00.49 tail     \u001b[m\u001b[m\u001b[K\n",
            "\u001b[m     32 root      20   0    6904   3156   2868 S   0.0   0.0   0:00.76 oom_mon+ \u001b[m\u001b[m\u001b[K\n",
            "\u001b[m     34 root      20   0    6904   1700   1428 S   0.0   0.0   0:00.00 run.sh   \u001b[m\u001b[m\u001b[K\n",
            "\u001b[m     36 root      20   0  721220  14364   7832 S   0.0   0.1   0:00.77 kernel_+ \u001b[m\u001b[m\u001b[K\n",
            "\u001b[m     60 root      20   0       0      0      0 Z   0.0   0.0   0:04.68 python3  \u001b[m\u001b[m\u001b[K\n",
            "\u001b[m     61 root      20   0   81028  45008  16372 S   0.0   0.3   0:00.42 colab-f+ \u001b[m\u001b[m\u001b[K\n",
            "\u001b[m     83 root      20   0  557392 152288  52396 S   0.0   1.1   0:04.88 jupyter+ \u001b[m\u001b[m\u001b[K\n",
            "\u001b[m     84 root      20   0  715540  10216   4620 S   0.0   0.1   0:01.95 dap_mul+ \u001b[m\u001b[m\u001b[K\n",
            "\u001b[m    127 root      20   0 1269324 107856  24980 S   0.0   0.8   3:37.42 python3  \u001b[m\u001b[m\u001b[K\n",
            "\u001b[m   7064 root      20   0  903896 119328  30024 S   0.0   0.9   0:05.51 node     \u001b[m\u001b[m\u001b[K\n",
            "\u001b[m   7907 root      20   0    5488    576    512 S   0.0   0.0   0:00.00 sleep    \u001b[m\u001b[m\u001b[K\n",
            "\u001b[m\u001b[1m   7908 root      20   0    9128   3584   3084 R   0.0   0.0   0:00.00 top      \u001b[m\u001b[m\u001b[K\n",
            "\u001b[J\u001b[H\u001b[mtop - 13:47:42 up 31 min,  0 users,  load average: 0.68, 0.66, 0.44\u001b[m\u001b[m\u001b[m\u001b[m\u001b[K\n",
            "\n",
            "%Cpu(s):\u001b[m\u001b[m\u001b[1m  2.5 \u001b[m\u001b[mus,\u001b[m\u001b[m\u001b[1m  1.2 \u001b[m\u001b[msy,\u001b[m\u001b[m\u001b[1m  0.0 \u001b[m\u001b[mni,\u001b[m\u001b[m\u001b[1m 96.0 \u001b[m\u001b[mid,\u001b[m\u001b[m\u001b[1m  0.0 \u001b[m\u001b[mwa,\u001b[m\u001b[m\u001b[1m  0.0 \u001b[m\u001b[mhi,\u001b[m\u001b[m\u001b[1m  0.2 \u001b[m\u001b[msi,\u001b[m\u001b[m\u001b[1m  0.2 \u001b[m\u001b[mst\u001b[m\u001b[m\u001b[m\u001b[m\u001b[K\n",
            "MiB Mem :\u001b[m\u001b[m\u001b[1m  12985.5 \u001b[m\u001b[mtotal,\u001b[m\u001b[m\u001b[1m   9221.3 \u001b[m\u001b[mfree,\u001b[m\u001b[m\u001b[1m    649.3 \u001b[m\u001b[mused,\u001b[m\u001b[m\u001b[1m   3115.0 \u001b[m\u001b[mbuff/cache\u001b[m\u001b[m\u001b[m\u001b[m\u001b[K\n",
            "MiB Swap:\u001b[m\u001b[m\u001b[1m      0.0 \u001b[m\u001b[mtotal,\u001b[m\u001b[m\u001b[1m      0.0 \u001b[m\u001b[mfree,\u001b[m\u001b[m\u001b[1m      0.0 \u001b[m\u001b[mused.\u001b[m\u001b[m\u001b[1m  12062.9 \u001b[m\u001b[mavail Mem \u001b[m\u001b[m\u001b[m\u001b[m\u001b[K\n",
            "\u001b[K\n",
            "\n",
            "\u001b[m    127 root      20   0 1269324 107856  24980 S   1.0   0.8   3:37.45 python3  \u001b[m\u001b[m\u001b[K\n",
            "\u001b[m      7 root      20   0  899860  54164  30848 S   0.7   0.4   0:04.00 node     \u001b[m\u001b[m\u001b[K\n",
            "\u001b[m     83 root      20   0  557392 152288  52396 S   0.7   1.1   0:04.90 jupyter+ \u001b[m\u001b[m\u001b[K\n",
            "\u001b[m    169 root      20   0  537836  14588   5732 S   0.3   0.1   0:03.48 python3  \u001b[m\u001b[m\u001b[K\n",
            "\u001b[m      1 root      20   0    1012      8      0 S   0.0   0.0   0:00.42 docker-+ \u001b[m\u001b[m\u001b[K\n",
            "\u001b[m     19 root      20   0    5524    584    512 S   0.0   0.0   0:00.49 tail     \u001b[m\u001b[m\u001b[K\n",
            "\u001b[m     32 root      20   0    6904   3156   2868 S   0.0   0.0   0:00.76 oom_mon+ \u001b[m\u001b[m\u001b[K\n",
            "\u001b[m     34 root      20   0    6904   1700   1428 S   0.0   0.0   0:00.00 run.sh   \u001b[m\u001b[m\u001b[K\n",
            "\u001b[m     36 root      20   0  721220  14364   7832 S   0.0   0.1   0:00.77 kernel_+ \u001b[m\u001b[m\u001b[K\n",
            "\u001b[m     60 root      20   0       0      0      0 Z   0.0   0.0   0:04.68 python3  \u001b[m\u001b[m\u001b[K\n",
            "\u001b[m     61 root      20   0   81028  45008  16372 S   0.0   0.3   0:00.42 colab-f+ \u001b[m\u001b[m\u001b[K\n",
            "\u001b[m     84 root      20   0  715540  10216   4620 S   0.0   0.1   0:01.95 dap_mul+ \u001b[m\u001b[m\u001b[K\n",
            "\n",
            "\u001b[m\u001b[1m   7908 root      20   0    9128   3584   3084 R   0.0   0.0   0:00.00 top      \u001b[m\u001b[m\u001b[K\n",
            "\u001b[m   7922 root      20   0    5488    584    516 S   0.0   0.0   0:00.00 sleep    \u001b[m\u001b[m\u001b[K\n",
            "\u001b[J\u001b[?1l\u001b>\u001b[25;1H\n",
            "\u001b[K"
          ]
        }
      ]
    },
    {
      "cell_type": "code",
      "source": [
        "#Thus in order to use multiple cores we use multi processing\n",
        "import multiprocessing\n",
        "from multiprocessing import Process"
      ],
      "metadata": {
        "id": "PxTfMugdMFlN"
      },
      "execution_count": null,
      "outputs": []
    },
    {
      "cell_type": "code",
      "source": [
        "kill_thread = True\n",
        "time.sleep(1)\n",
        "print('count after start:', threading.active_count())"
      ],
      "metadata": {
        "colab": {
          "base_uri": "https://localhost:8080/"
        },
        "id": "jXoBjbsEKNHM",
        "outputId": "8d3bd696-4f9f-4dc7-93b1-85547423ccb1"
      },
      "execution_count": null,
      "outputs": [
        {
          "output_type": "stream",
          "name": "stdout",
          "text": [
            "count after start: 5\n"
          ]
        }
      ]
    },
    {
      "cell_type": "code",
      "source": [
        "def thrdFunc(name):\n",
        "  print('start thread func {}\\n'.format(name))\n",
        "  time.sleep(5)\n",
        "  print('sleep over\\n')"
      ],
      "metadata": {
        "id": "X81eRb54cWx8"
      },
      "execution_count": null,
      "outputs": []
    },
    {
      "cell_type": "code",
      "source": [
        "thrd = Thread(target=thrdFunc, args=('named_thread',), name='learn_thrd')\n",
        "thrd.is_alive()\n",
        "thrd.name\n",
        "thrd.start()\n",
        "thrd.ident\n",
        "thrd.is_alive()\n",
        "thrd.join()"
      ],
      "metadata": {
        "colab": {
          "base_uri": "https://localhost:8080/",
          "height": 87
        },
        "id": "95xNs9YLZOjD",
        "outputId": "b0f436ba-8cf7-40c7-f000-174418b16def"
      },
      "execution_count": null,
      "outputs": [
        {
          "output_type": "execute_result",
          "data": {
            "text/plain": [
              "False"
            ]
          },
          "metadata": {},
          "execution_count": 60
        },
        {
          "output_type": "execute_result",
          "data": {
            "text/plain": [
              "'learn_thrd'"
            ],
            "application/vnd.google.colaboratory.intrinsic+json": {
              "type": "string"
            }
          },
          "metadata": {},
          "execution_count": 60
        },
        {
          "output_type": "stream",
          "name": "stdout",
          "text": [
            "start thread func named_thread\n"
          ]
        },
        {
          "output_type": "execute_result",
          "data": {
            "text/plain": [
              "139979087410944"
            ]
          },
          "metadata": {},
          "execution_count": 60
        },
        {
          "output_type": "execute_result",
          "data": {
            "text/plain": [
              "True"
            ]
          },
          "metadata": {},
          "execution_count": 60
        },
        {
          "output_type": "stream",
          "name": "stdout",
          "text": [
            "\n",
            "sleep over\n",
            "\n"
          ]
        }
      ]
    },
    {
      "cell_type": "code",
      "source": [
        "# thread finished execution\n",
        "thrd.ident != None and thrd.is_alive() == False"
      ],
      "metadata": {
        "colab": {
          "base_uri": "https://localhost:8080/"
        },
        "id": "ly_WyLMxb4on",
        "outputId": "99880bbf-04ba-46c4-addc-138c9a7dc68c"
      },
      "execution_count": null,
      "outputs": [
        {
          "output_type": "execute_result",
          "data": {
            "text/plain": [
              "True"
            ]
          },
          "metadata": {},
          "execution_count": 55
        }
      ]
    },
    {
      "cell_type": "code",
      "source": [
        "class MyThread(Thread):\n",
        "  def __init__():\n",
        "    super().__init__()\n",
        "\n",
        "  def run(self):\n",
        "    print('A thread is running')\n",
        "    time.sleep(5)\n",
        "    print('A thread is exiting')"
      ],
      "metadata": {
        "id": "ytxQZSwxV8KZ"
      },
      "execution_count": null,
      "outputs": []
    },
    {
      "cell_type": "code",
      "source": [
        "lock = threading.Lock()"
      ],
      "metadata": {
        "id": "rT5jZ228eIqI"
      },
      "execution_count": null,
      "outputs": []
    },
    {
      "cell_type": "code",
      "source": [
        "def first_person():\n",
        "\n",
        "  lock.acquire()\n",
        "\n",
        "  print('first_person entered meeting room\\n')\n",
        "  time.sleep(5)\n",
        "  print('first_person vacated meeting room\\n')\n",
        "\n",
        "  lock.release()\n",
        "\n",
        "def second_person():\n",
        "\n",
        "  while True:\n",
        "    # lock time out\n",
        "    # if lock.acquire(timeout=0.1) is True:\n",
        "    # check if block\n",
        "    if lock.acquire(blocking=False) is True:\n",
        "\n",
        "      break\n",
        "    else:\n",
        "      print('Lock not free')\n",
        "\n",
        "  print('second_person entered meeting room\\n')\n",
        "  time.sleep(5)\n",
        "  print('second_person vacated meeting room\\n')\n",
        "\n",
        "  lock.release()"
      ],
      "metadata": {
        "id": "xJpaw7WJbFeo"
      },
      "execution_count": null,
      "outputs": []
    },
    {
      "cell_type": "code",
      "source": [
        "thrd1 = Thread(target=first_person)\n",
        "thrd2 = Thread(target=second_person)"
      ],
      "metadata": {
        "id": "RT3LZLq9blBr"
      },
      "execution_count": null,
      "outputs": []
    },
    {
      "cell_type": "code",
      "source": [
        "thrd1.start()\n",
        "thrd2.start()\n",
        "\n",
        "thrd1.join()\n",
        "thrd2.join()"
      ],
      "metadata": {
        "id": "mpcpsVP3cDhg"
      },
      "execution_count": null,
      "outputs": []
    },
    {
      "cell_type": "markdown",
      "source": [
        "## Multithreading\n",
        "\n",
        "Runs thread simultaneously"
      ],
      "metadata": {
        "id": "Bv51eEX_jH9L"
      }
    },
    {
      "cell_type": "code",
      "source": [
        "import multiprocessing as mp\n",
        "from multiprocessing import Process"
      ],
      "metadata": {
        "id": "EKzyJ-8UjqQV"
      },
      "execution_count": null,
      "outputs": []
    },
    {
      "cell_type": "code",
      "source": [
        "def process_fn():\n",
        "  print('This is a new Process..')\n",
        "  time.sleep(2)\n",
        "  print('The process name is ', mp.current_process())"
      ],
      "metadata": {
        "id": "ajdyqfEHmLZ7"
      },
      "execution_count": null,
      "outputs": []
    },
    {
      "cell_type": "code",
      "source": [
        "proc = Process(target=process_fn)\n",
        "proc.start()\n",
        "\n",
        "proc.join()\n",
        "print('process complete')"
      ],
      "metadata": {
        "colab": {
          "base_uri": "https://localhost:8080/"
        },
        "id": "g7cQi-C7nHU7",
        "outputId": "9150d946-fb8f-46ba-bfbe-eb25eeb5d669"
      },
      "execution_count": null,
      "outputs": [
        {
          "output_type": "stream",
          "name": "stdout",
          "text": [
            "This is a new Process..\n",
            "The process name is  <Process name='Process-1' parent=127 started>\n",
            "process complete\n"
          ]
        }
      ]
    },
    {
      "cell_type": "markdown",
      "source": [
        "## Thread Pool Executor"
      ],
      "metadata": {
        "id": "Xh41owo9AwqN"
      }
    },
    {
      "cell_type": "code",
      "source": [
        "import concurrent.futures as cf\n",
        "from concurrent.futures import ThreadPoolExecutor"
      ],
      "metadata": {
        "id": "TQ8vM3Ynsv8T"
      },
      "execution_count": null,
      "outputs": []
    },
    {
      "cell_type": "code",
      "source": [
        "def fn_takes_time():\n",
        "  print('first_person entered meeting room\\n')\n",
        "  time.sleep(5)\n",
        "  print('first_person vacated meeting room\\n')"
      ],
      "metadata": {
        "id": "T7rk4ZrE2apb"
      },
      "execution_count": null,
      "outputs": []
    },
    {
      "cell_type": "code",
      "source": [
        "with ThreadPoolExecutor(max_workers=1)  as ex:\n",
        "  future = ex.submit(fn_takes_time)\n",
        "  print('\\n after sleep calling the result')\n",
        "  future.result()\n",
        "  future.done()"
      ],
      "metadata": {
        "colab": {
          "base_uri": "https://localhost:8080/"
        },
        "id": "_JVaPhsf2ovh",
        "outputId": "196e7e5b-6607-412b-ae1d-5dcb8e376b1e"
      },
      "execution_count": null,
      "outputs": [
        {
          "output_type": "stream",
          "name": "stdout",
          "text": [
            "first_person entered meeting room\n",
            "\n",
            " after sleep calling the result\n",
            "\n",
            "first_person vacated meeting room\n",
            "\n"
          ]
        },
        {
          "output_type": "execute_result",
          "data": {
            "text/plain": [
              "True"
            ]
          },
          "metadata": {},
          "execution_count": 50
        }
      ]
    },
    {
      "cell_type": "code",
      "source": [
        "%%time\n",
        "def fn_takes_time(duration):\n",
        "  print('first_person entered meeting room\\n')\n",
        "  time.sleep(duration)\n",
        "  print('first_person vacated meeting room\\n')\n",
        "\n",
        "duration_list = [2, 3]\n",
        "\n",
        "# experiment with different num_workers.\n",
        "# You will see timre reduce with increasing workers\n",
        "with ThreadPoolExecutor(max_workers=1)  as ex:\n",
        "  result = ex.map(fn_takes_time, [duration for duration in duration_list])"
      ],
      "metadata": {
        "colab": {
          "base_uri": "https://localhost:8080/"
        },
        "id": "AQ_8zP543hIP",
        "outputId": "9f9fec6e-0de5-4cce-a55d-0e37317150f9"
      },
      "execution_count": null,
      "outputs": [
        {
          "output_type": "stream",
          "name": "stdout",
          "text": [
            "first_person entered meeting room\n",
            "\n",
            "first_person vacated meeting room\n",
            "\n",
            "first_person entered meeting room\n",
            "\n",
            "first_person vacated meeting room\n",
            "\n",
            "CPU times: user 39.8 ms, sys: 7.48 ms, total: 47.3 ms\n",
            "Wall time: 5.01 s\n"
          ]
        }
      ]
    },
    {
      "cell_type": "code",
      "source": [
        "%%time\n",
        "with ThreadPoolExecutor(max_workers=2)  as ex:\n",
        "  result = ex.map(fn_takes_time, [duration for duration in duration_list])"
      ],
      "metadata": {
        "colab": {
          "base_uri": "https://localhost:8080/"
        },
        "id": "OxlMOLZy4XzB",
        "outputId": "e03f5f7f-0ad8-4bb6-d81c-33812cc3bc49"
      },
      "execution_count": null,
      "outputs": [
        {
          "output_type": "stream",
          "name": "stdout",
          "text": [
            "first_person entered meeting room\n",
            "\n",
            "first_person entered meeting room\n",
            "\n",
            "first_person vacated meeting room\n",
            "\n",
            "first_person vacated meeting room\n",
            "\n",
            "CPU times: user 30.4 ms, sys: 2.65 ms, total: 33 ms\n",
            "Wall time: 3.01 s\n"
          ]
        }
      ]
    },
    {
      "cell_type": "markdown",
      "source": [
        "## Process pool executor"
      ],
      "metadata": {
        "id": "3kTi7LdMA_D2"
      }
    },
    {
      "cell_type": "code",
      "source": [
        "import concurrent.futures as cf\n",
        "from concurrent.futures import ProcessPoolExecutor"
      ],
      "metadata": {
        "id": "UttE3LiTAuFo"
      },
      "execution_count": null,
      "outputs": []
    },
    {
      "cell_type": "code",
      "source": [
        "with ProcessPoolExecutor(max_workers=1)  as ex:\n",
        "  future = ex.submit(fn_takes_time, 2)\n",
        "  print('\\n after sleep calling the result')\n",
        "  future.result()\n",
        "  future.done()"
      ],
      "metadata": {
        "colab": {
          "base_uri": "https://localhost:8080/"
        },
        "id": "7EwVMaqKBLpI",
        "outputId": "a71911c3-c142-4161-a874-4b8331b2db86"
      },
      "execution_count": null,
      "outputs": [
        {
          "output_type": "stream",
          "name": "stdout",
          "text": [
            "first_person entered meeting room\n",
            "\n",
            "\n",
            " after sleep calling the result\n",
            "first_person vacated meeting room\n",
            "\n"
          ]
        },
        {
          "output_type": "execute_result",
          "data": {
            "text/plain": [
              "True"
            ]
          },
          "metadata": {},
          "execution_count": 59
        }
      ]
    },
    {
      "cell_type": "code",
      "source": [
        "with ProcessPoolExecutor(max_workers=2)  as ex:\n",
        "  future1 = ex.submit(fn_takes_time, 10)\n",
        "  future2 = ex.submit(fn_takes_time, 5)\n",
        "  print('\\n after sleep calling the result')\n",
        "  future1.result()\n",
        "  future2.result()\n",
        "  future1.done()\n",
        "  future2.done()"
      ],
      "metadata": {
        "colab": {
          "base_uri": "https://localhost:8080/"
        },
        "id": "R3vgp-fHBu4P",
        "outputId": "85f8aec4-708b-46c8-af28-2e3ab0d8c1bd"
      },
      "execution_count": null,
      "outputs": [
        {
          "output_type": "stream",
          "name": "stdout",
          "text": [
            "first_person entered meeting room\n",
            "\n",
            "first_person entered meeting room\n",
            "\n",
            "\n",
            " after sleep calling the result\n",
            "first_person vacated meeting room\n",
            "\n",
            "first_person vacated meeting room\n",
            "\n"
          ]
        },
        {
          "output_type": "execute_result",
          "data": {
            "text/plain": [
              "True"
            ]
          },
          "metadata": {},
          "execution_count": 63
        },
        {
          "output_type": "execute_result",
          "data": {
            "text/plain": [
              "True"
            ]
          },
          "metadata": {},
          "execution_count": 63
        }
      ]
    }
  ]
}